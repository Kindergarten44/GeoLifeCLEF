{
 "cells": [
  {
   "cell_type": "code",
   "execution_count": 64,
   "id": "b0299ea4",
   "metadata": {},
   "outputs": [],
   "source": [
    "import pandas as pd\n",
    "import os\n",
    "os.environ['USE_PYGEOS'] = '0'\n",
    "import geopandas as gpd\n",
    "from shapely.geometry import Polygon\n",
    "import rasterio\n",
    "import rasterio.mask\n",
    "import glob\n",
    "import os.path"
   ]
  },
  {
   "cell_type": "code",
   "execution_count": 65,
   "id": "549e1306",
   "metadata": {},
   "outputs": [
    {
     "name": "stdout",
     "output_type": "stream",
     "text": [
      "18\n"
     ]
    },
    {
     "data": {
      "text/plain": [
       "['/home/jestopin/PHD/data/human_footprint/WGS84/NavWater2009_WGS84.tif',\n",
       " '/home/jestopin/PHD/data/human_footprint/WGS84/croplands1992_WGS84.tif',\n",
       " '/home/jestopin/PHD/data/human_footprint/WGS84/Popdensity1990_WGS84.tif',\n",
       " '/home/jestopin/PHD/data/human_footprint/WGS84/HFP2009_WGS84.tif',\n",
       " '/home/jestopin/PHD/data/human_footprint/WGS84/Railways_WGS84.tif',\n",
       " '/home/jestopin/PHD/data/human_footprint/WGS84/HFP1993_int_WGS84.tif',\n",
       " '/home/jestopin/PHD/data/human_footprint/WGS84/croplands2005_WGS84.tif',\n",
       " '/home/jestopin/PHD/data/human_footprint/WGS84/Popdensity2010_WGS84.tif',\n",
       " '/home/jestopin/PHD/data/human_footprint/WGS84/NavWater1994_WGS84.tif',\n",
       " '/home/jestopin/PHD/data/human_footprint/WGS84/Built1994_WGS84.tif',\n",
       " '/home/jestopin/PHD/data/human_footprint/WGS84/Built2009_WGS84.tif',\n",
       " '/home/jestopin/PHD/data/human_footprint/WGS84/Pasture2009_WGS84.tif',\n",
       " '/home/jestopin/PHD/data/human_footprint/WGS84/HFP2009_int_WGS84.tif',\n",
       " '/home/jestopin/PHD/data/human_footprint/WGS84/Roads_WGS84.tif',\n",
       " '/home/jestopin/PHD/data/human_footprint/WGS84/Pasture1993_WGS84.tif',\n",
       " '/home/jestopin/PHD/data/human_footprint/WGS84/HFP1993_WGS84.tif',\n",
       " '/home/jestopin/PHD/data/human_footprint/WGS84/Lights2009_WGS84.tif',\n",
       " '/home/jestopin/PHD/data/human_footprint/WGS84/Lights1994_WGS84.tif']"
      ]
     },
     "execution_count": 65,
     "metadata": {},
     "output_type": "execute_result"
    }
   ],
   "source": [
    "# *** Variables ***\n",
    "src_p = \"/home/jestopin/PHD/data/human_footprint/WGS84/*.tif\"\n",
    "dest_p = '/home/jestopin/PHD/data/human_footprint/WGS84_crop_HF'\n",
    "# Bounding box \n",
    "min_x, min_y, max_x, max_y = -32.26344,  26.63842,  35.58677,  72.18392\n",
    "# *****************\n",
    "\n",
    "src_paths = glob.glob(src_p)\n",
    "print(len(src_paths))\n",
    "src_paths"
   ]
  },
  {
   "cell_type": "code",
   "execution_count": 66,
   "id": "d49d180f",
   "metadata": {},
   "outputs": [],
   "source": [
    "# WGS84 Bounding box\n",
    "lon_list = [min_x, max_x, max_x, min_x, min_x]\n",
    "lat_list = [min_y, min_y, max_y, max_y, min_y]\n",
    "\n",
    "polygon_geom = Polygon(zip(lon_list, lat_list))\n",
    "polygon = gpd.GeoDataFrame(crs='epsg:4326', geometry=[polygon_geom])"
   ]
  },
  {
   "cell_type": "code",
   "execution_count": 69,
   "id": "b8eb6334",
   "metadata": {},
   "outputs": [
    {
     "name": "stdout",
     "output_type": "stream",
     "text": [
      "NavWater2009_WGS84\n",
      "croplands1992_WGS84\n",
      "Popdensity1990_WGS84\n",
      "HFP2009_WGS84\n",
      "Railways_WGS84\n",
      "HFP1993_int_WGS84\n",
      "croplands2005_WGS84\n",
      "Popdensity2010_WGS84\n",
      "NavWater1994_WGS84\n",
      "Built1994_WGS84\n",
      "Built2009_WGS84\n",
      "Pasture2009_WGS84\n",
      "HFP2009_int_WGS84\n",
      "Roads_WGS84\n",
      "Pasture1993_WGS84\n",
      "HFP1993_WGS84\n",
      "Lights2009_WGS84\n",
      "Lights1994_WGS84\n"
     ]
    }
   ],
   "source": [
    "for path in src_paths:\n",
    "    \n",
    "    var_name = path.split(\"/\")[-1][:-4]\n",
    "    print(var_name)\n",
    "    \n",
    "   # Reads src raster\n",
    "    with rasterio.open(path) as src:\n",
    "        # Metadata\n",
    "        out_meta = src.meta\n",
    "        # Adapts bounding box to src CRS\n",
    "        polygon_CRS = polygon.to_crs(out_meta['crs'])\n",
    "        # Only reads cropped data\n",
    "        out_image, out_transform = rasterio.mask.mask(src, polygon_CRS['geometry'], crop=True)\n",
    "        \n",
    "    \n",
    "    # Prepares out metadata\n",
    "    out_meta.update({\"driver\": \"GTiff\",\n",
    "                     \"height\": out_image.shape[1],\n",
    "                     \"width\": out_image.shape[2],\n",
    "                     \"transform\": out_transform,\n",
    "                     \"compress\": \"deflate\"})\n",
    "    \n",
    "    # Writes out raster\n",
    "    out_p = os.path.join(dest_p,var_name+'.tif')\n",
    "    with rasterio.open(out_p, \"w\", **out_meta) as dest:\n",
    "        dest.write(out_image)"
   ]
  },
  {
   "cell_type": "markdown",
   "id": "62e9082c",
   "metadata": {},
   "source": [
    "- Verif"
   ]
  },
  {
   "cell_type": "code",
   "execution_count": 72,
   "id": "c0a0b057",
   "metadata": {},
   "outputs": [
    {
     "name": "stdout",
     "output_type": "stream",
     "text": [
      "{'driver': 'GTiff', 'dtype': 'uint8', 'nodata': 127.0, 'width': 36390, 'height': 15683, 'count': 1, 'crs': CRS.from_epsg(4326), 'transform': Affine(0.009892734568157884, 0.0, -179.99999995447251,\n",
      "       0.0, -0.009892734568157884, 89.8976232152096), 'blockysize': 1, 'tiled': False, 'interleave': 'band'}\n"
     ]
    }
   ],
   "source": [
    "raster = rasterio.open(path)\n",
    "# raster = rasterio.open('/home/jestopin/PHD/data/human_footprint/Dryadv3/Maps/Built1994.tif')\n",
    "print(raster.profile)"
   ]
  }
 ],
 "metadata": {
  "kernelspec": {
   "display_name": "Python 3 (ipykernel)",
   "language": "python",
   "name": "python3"
  },
  "language_info": {
   "codemirror_mode": {
    "name": "ipython",
    "version": 3
   },
   "file_extension": ".py",
   "mimetype": "text/x-python",
   "name": "python",
   "nbconvert_exporter": "python",
   "pygments_lexer": "ipython3",
   "version": "3.10.8"
  },
  "toc": {
   "base_numbering": 1,
   "nav_menu": {},
   "number_sections": true,
   "sideBar": true,
   "skip_h1_title": false,
   "title_cell": "Table of Contents",
   "title_sidebar": "Contents",
   "toc_cell": false,
   "toc_position": {},
   "toc_section_display": true,
   "toc_window_display": false
  }
 },
 "nbformat": 4,
 "nbformat_minor": 5
}
