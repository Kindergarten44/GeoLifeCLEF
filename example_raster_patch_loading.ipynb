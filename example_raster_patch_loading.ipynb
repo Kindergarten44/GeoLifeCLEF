{
 "cells": [
  {
   "cell_type": "markdown",
   "metadata": {},
   "source": [
    "# Example of dataset using environmental rasters"
   ]
  },
  {
   "cell_type": "markdown",
   "metadata": {},
   "source": [
    "Importing the providers and dataset objects:"
   ]
  },
  {
   "cell_type": "code",
   "execution_count": 1,
   "metadata": {},
   "outputs": [
    {
     "ename": "ModuleNotFoundError",
     "evalue": "No module named 'data'",
     "output_type": "error",
     "traceback": [
      "\u001b[0;31m---------------------------------------------------------------------------\u001b[0m",
      "\u001b[0;31mModuleNotFoundError\u001b[0m                       Traceback (most recent call last)",
      "Cell \u001b[0;32mIn[1], line 1\u001b[0m\n\u001b[0;32m----> 1\u001b[0m \u001b[38;5;28;01mfrom\u001b[39;00m \u001b[38;5;21;01mdata\u001b[39;00m\u001b[38;5;21;01m.\u001b[39;00m\u001b[38;5;21;01mGLC23PatchesProviders\u001b[39;00m \u001b[38;5;28;01mimport\u001b[39;00m MultipleRasterPatchProvider, RasterPatchProvider\n\u001b[1;32m      2\u001b[0m \u001b[38;5;28;01mfrom\u001b[39;00m \u001b[38;5;21;01mdata\u001b[39;00m\u001b[38;5;21;01m.\u001b[39;00m\u001b[38;5;21;01mGLC23Datasets\u001b[39;00m \u001b[38;5;28;01mimport\u001b[39;00m PatchesDataset\n",
      "\u001b[0;31mModuleNotFoundError\u001b[0m: No module named 'data'"
     ]
    }
   ],
   "source": [
    "from data.GLC23PatchesProviders import MultipleRasterPatchProvider, RasterPatchProvider\n",
    "from data.GLC23Datasets import PatchesDataset"
   ]
  },
  {
   "cell_type": "markdown",
   "metadata": {},
   "source": [
    "Define the list of providers to use in the dataset (i.e. the rasters that will be used):"
   ]
  },
  {
   "cell_type": "code",
   "execution_count": 2,
   "metadata": {},
   "outputs": [
    {
     "ename": "NameError",
     "evalue": "name 'MultipleRasterPatchProvider' is not defined",
     "output_type": "error",
     "traceback": [
      "\u001b[0;31m---------------------------------------------------------------------------\u001b[0m",
      "\u001b[0;31mNameError\u001b[0m                                 Traceback (most recent call last)",
      "Cell \u001b[0;32mIn[2], line 4\u001b[0m\n\u001b[1;32m      1\u001b[0m data_path \u001b[38;5;241m=\u001b[39m \u001b[38;5;124m'\u001b[39m\u001b[38;5;124m./data/\u001b[39m\u001b[38;5;124m'\u001b[39m \u001b[38;5;66;03m# root path of the data\u001b[39;00m\n\u001b[1;32m      3\u001b[0m \u001b[38;5;66;03m# configure providers\u001b[39;00m\n\u001b[0;32m----> 4\u001b[0m p_soil \u001b[38;5;241m=\u001b[39m \u001b[43mMultipleRasterPatchProvider\u001b[49m(data_path\u001b[38;5;241m+\u001b[39m\u001b[38;5;124m'\u001b[39m\u001b[38;5;124mEnvironmentalRasters/Soilgrids/\u001b[39m\u001b[38;5;124m'\u001b[39m) \u001b[38;5;66;03m# take all soilgris rasters\u001b[39;00m\n\u001b[1;32m      5\u001b[0m p_bioclim \u001b[38;5;241m=\u001b[39m MultipleRasterPatchProvider(data_path\u001b[38;5;241m+\u001b[39m\u001b[38;5;124m'\u001b[39m\u001b[38;5;124mEnvironmentalRasters/Climate/BioClimatic_Average_1981-2010/\u001b[39m\u001b[38;5;124m'\u001b[39m, select\u001b[38;5;241m=\u001b[39m[\u001b[38;5;124m'\u001b[39m\u001b[38;5;124mbio1\u001b[39m\u001b[38;5;124m'\u001b[39m, \u001b[38;5;124m'\u001b[39m\u001b[38;5;124mbio7\u001b[39m\u001b[38;5;124m'\u001b[39m]) \u001b[38;5;66;03m# take only bio1 and bio7 from bioclimatic rasters\u001b[39;00m\n\u001b[1;32m      6\u001b[0m p_hfp \u001b[38;5;241m=\u001b[39m RasterPatchProvider(data_path\u001b[38;5;241m+\u001b[39m\u001b[38;5;124m'\u001b[39m\u001b[38;5;124mEnvironmentalRasters/HumanFootprint/summarized/HFP2009_WGS84.tif\u001b[39m\u001b[38;5;124m'\u001b[39m)\n",
      "\u001b[0;31mNameError\u001b[0m: name 'MultipleRasterPatchProvider' is not defined"
     ]
    }
   ],
   "source": [
    "data_path = './data/' # root path of the data\n",
    "\n",
    "# configure providers\n",
    "p_soil = MultipleRasterPatchProvider(data_path+'EnvironmentalRasters/Soilgrids/') # take all soilgris rasters\n",
    "p_bioclim = MultipleRasterPatchProvider(data_path+'EnvironmentalRasters/Climate/BioClimatic_Average_1981-2010/', select=['bio1', 'bio7']) # take only bio1 and bio7 from bioclimatic rasters\n",
    "p_hfp = RasterPatchProvider(data_path+'EnvironmentalRasters/HumanFootprint/summarized/HFP2009_WGS84.tif') # take the human footprint 2009 summurized raster"
   ]
  },
  {
   "cell_type": "markdown",
   "metadata": {},
   "source": [
    "Construct the dataset object given the list of providers and the occurrences csv file:"
   ]
  },
  {
   "cell_type": "code",
   "execution_count": 3,
   "metadata": {},
   "outputs": [
    {
     "ename": "NameError",
     "evalue": "name 'PatchesDataset' is not defined",
     "output_type": "error",
     "traceback": [
      "\u001b[0;31m---------------------------------------------------------------------------\u001b[0m",
      "\u001b[0;31mNameError\u001b[0m                                 Traceback (most recent call last)",
      "Cell \u001b[0;32mIn[3], line 2\u001b[0m\n\u001b[1;32m      1\u001b[0m \u001b[38;5;66;03m# create dataset\u001b[39;00m\n\u001b[0;32m----> 2\u001b[0m dataset \u001b[38;5;241m=\u001b[39m \u001b[43mPatchesDataset\u001b[49m(\n\u001b[1;32m      3\u001b[0m     occurrences\u001b[38;5;241m=\u001b[39mdata_path\u001b[38;5;241m+\u001b[39m\u001b[38;5;124m'\u001b[39m\u001b[38;5;124mPresence_only_occurrences/PO_anonymised_filtered.csv\u001b[39m\u001b[38;5;124m'\u001b[39m,\n\u001b[1;32m      4\u001b[0m     providers\u001b[38;5;241m=\u001b[39m(p_soil, p_bioclim, p_hfp))\n",
      "\u001b[0;31mNameError\u001b[0m: name 'PatchesDataset' is not defined"
     ]
    }
   ],
   "source": [
    "# create dataset\n",
    "dataset = PatchesDataset(\n",
    "    occurrences=data_path+'Presence_only_occurrences/PO_anonymised_filtered.csv',\n",
    "    providers=(p_soil, p_bioclim, p_hfp))"
   ]
  },
  {
   "cell_type": "markdown",
   "metadata": {},
   "source": [
    "Testing the dataset on random occurrences:"
   ]
  },
  {
   "cell_type": "code",
   "execution_count": 4,
   "metadata": {},
   "outputs": [
    {
     "ename": "NameError",
     "evalue": "name 'dataset' is not defined",
     "output_type": "error",
     "traceback": [
      "\u001b[0;31m---------------------------------------------------------------------------\u001b[0m",
      "\u001b[0;31mNameError\u001b[0m                                 Traceback (most recent call last)",
      "Cell \u001b[0;32mIn[4], line 3\u001b[0m\n\u001b[1;32m      1\u001b[0m \u001b[38;5;28;01mimport\u001b[39;00m \u001b[38;5;21;01mrandom\u001b[39;00m\n\u001b[1;32m      2\u001b[0m \u001b[38;5;66;03m# print random tensors from dataset\u001b[39;00m\n\u001b[0;32m----> 3\u001b[0m ids \u001b[38;5;241m=\u001b[39m [random\u001b[38;5;241m.\u001b[39mrandint(\u001b[38;5;241m0\u001b[39m, \u001b[38;5;28mlen\u001b[39m(dataset)) \u001b[38;5;28;01mfor\u001b[39;00m i \u001b[38;5;129;01min\u001b[39;00m \u001b[38;5;28mrange\u001b[39m(\u001b[38;5;241m10\u001b[39m)]\n\u001b[1;32m      4\u001b[0m \u001b[38;5;28;01mfor\u001b[39;00m \u001b[38;5;28mid\u001b[39m \u001b[38;5;129;01min\u001b[39;00m ids:\n\u001b[1;32m      5\u001b[0m     tensor \u001b[38;5;241m=\u001b[39m dataset[\u001b[38;5;28mid\u001b[39m][\u001b[38;5;241m0\u001b[39m]\n",
      "Cell \u001b[0;32mIn[4], line 3\u001b[0m, in \u001b[0;36m<listcomp>\u001b[0;34m(.0)\u001b[0m\n\u001b[1;32m      1\u001b[0m \u001b[38;5;28;01mimport\u001b[39;00m \u001b[38;5;21;01mrandom\u001b[39;00m\n\u001b[1;32m      2\u001b[0m \u001b[38;5;66;03m# print random tensors from dataset\u001b[39;00m\n\u001b[0;32m----> 3\u001b[0m ids \u001b[38;5;241m=\u001b[39m [random\u001b[38;5;241m.\u001b[39mrandint(\u001b[38;5;241m0\u001b[39m, \u001b[38;5;28mlen\u001b[39m(\u001b[43mdataset\u001b[49m)) \u001b[38;5;28;01mfor\u001b[39;00m i \u001b[38;5;129;01min\u001b[39;00m \u001b[38;5;28mrange\u001b[39m(\u001b[38;5;241m10\u001b[39m)]\n\u001b[1;32m      4\u001b[0m \u001b[38;5;28;01mfor\u001b[39;00m \u001b[38;5;28mid\u001b[39m \u001b[38;5;129;01min\u001b[39;00m ids:\n\u001b[1;32m      5\u001b[0m     tensor \u001b[38;5;241m=\u001b[39m dataset[\u001b[38;5;28mid\u001b[39m][\u001b[38;5;241m0\u001b[39m]\n",
      "\u001b[0;31mNameError\u001b[0m: name 'dataset' is not defined"
     ]
    }
   ],
   "source": [
    "import random\n",
    "# print random tensors from dataset\n",
    "ids = [random.randint(0, len(dataset)) for i in range(10)]\n",
    "for id in ids:\n",
    "    tensor = dataset[id][0]\n",
    "    label = dataset[id][1]\n",
    "    print('Tensor type: {}, tensor shape: {}, label: {}'.format(type(tensor), tensor.shape, label))\n",
    "    dataset.plot_patch(id)"
   ]
  },
  {
   "cell_type": "code",
   "execution_count": null,
   "metadata": {},
   "outputs": [],
   "source": []
  }
 ],
 "metadata": {
  "kernelspec": {
   "display_name": "Python 3 (ipykernel)",
   "language": "python",
   "name": "python3"
  },
  "language_info": {
   "codemirror_mode": {
    "name": "ipython",
    "version": 3
   },
   "file_extension": ".py",
   "mimetype": "text/x-python",
   "name": "python",
   "nbconvert_exporter": "python",
   "pygments_lexer": "ipython3",
   "version": "3.9.16"
  }
 },
 "nbformat": 4,
 "nbformat_minor": 2
}
